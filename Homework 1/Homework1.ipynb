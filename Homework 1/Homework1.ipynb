{
 "cells": [
  {
   "cell_type": "code",
   "execution_count": 1,
   "id": "d1c494c6",
   "metadata": {},
   "outputs": [
    {
     "name": "stdout",
     "output_type": "stream",
     "text": [
      "What is your name?PK\n",
      "My name is : PK\n",
      "enter the first number between 2 to 10 to get?2\n",
      "enter the second number between 2 to 10 to get?10\n",
      "Fibonacci sequence:\n",
      "the first number series\n",
      "0  1  the second number series\n",
      "0  1  1  2  3  5  8  13  21  34  "
     ]
    }
   ],
   "source": []
  },
  {
   "cell_type": "code",
   "execution_count": 10,
   "id": "ba186a2f",
   "metadata": {},
   "outputs": [
    {
     "name": "stdout",
     "output_type": "stream",
     "text": [
      "What is your name?pk \n",
      "My name is : pk \n",
      "enter the first number between 2 to 10 to get?10\n",
      "enter the second number between 2 to 10 to get?10\n",
      "Fibonacci sequence:\n",
      "the first number series\n",
      "1  1  2  3  5  8  13  21  34  55  the second number series\n",
      "1  1  2  3  5  8  13  21  34  55  "
     ]
    }
   ],
   "source": [
    "# QUESTION 1 Fix the error/s and run your program\n",
    "\n",
    "#Intialize first two two numbers\n",
    "name = input('What is your name?')\n",
    "print(\"My name is :\",name)\n",
    "n1 = input('enter the first number between 2 to 10 to get?')\n",
    "n2 = input('enter the second number between 2 to 10 to get?')\n",
    "type_n1= int(n1)\n",
    "type_n2= int(n2)\n",
    "value1=0\n",
    "value2= 1\n",
    "print(\"Fibonacci sequence:\")\n",
    "\n",
    "# run loop 5 times\n",
    "def firstnumber(k):\n",
    "    print('the first number series')\n",
    "    value1, value2 = 0, 1\n",
    "    for i in range(k):\n",
    "        # print next number of a series\n",
    "        print(value1, end=\"  \")\n",
    "        # add last two numbers to get next number\n",
    "        result = value1 + value2\n",
    "\n",
    "        # update values\n",
    "        value1 = value2\n",
    "        value2 = result\n",
    "def secondnumber(kk):\n",
    "    print('the second number series')\n",
    "    value1, value2 = 0, 1\n",
    "    for i in range(kk):\n",
    "        # print next number of a series\n",
    "        print(value1, end=\"  \")\n",
    "        # add last two numbers to get next number\n",
    "        result = value1 + value2\n",
    "\n",
    "        # update values\n",
    "        value1 = value2\n",
    "        value2 = result\n",
    "firstnumber(type_n1)\n",
    "secondnumber(type_n2)"
   ]
  },
  {
   "cell_type": "code",
   "execution_count": 11,
   "id": "5d9cf386",
   "metadata": {},
   "outputs": [
    {
     "name": "stdout",
     "output_type": "stream",
     "text": [
      "What is your name?pk\n",
      "My name is : pk\n",
      "enter the first number between 2 to 10 to get?10\n",
      "enter the second number between 2 to 10 to get?10\n",
      "Fibonacci sequence:\n",
      "the first number series\n",
      "0  1  1  2  3  5  8  13  21  34  the second number series\n",
      "0  1  1  2  3  5  8  13  21  34  "
     ]
    }
   ],
   "source": [
    "# Question 2 : Delete any unncessary variable/s or code in the program\n",
    "#Intialize first two two numbers\n",
    "name = input('What is your name?')\n",
    "print(\"My name is :\",name)\n",
    "n1 = input('enter the first number between 2 to 10 to get?')\n",
    "n2 = input('enter the second number between 2 to 10 to get?')\n",
    "type_n1= int(n1)\n",
    "type_n2= int(n2)\n",
    "print(\"Fibonacci sequence:\")\n",
    "\n",
    "# run loop 5 times\n",
    "def firstnumber(k):\n",
    "    value1=0\n",
    "    value2= 1\n",
    "    print('the first number series')\n",
    "    for i in range(k):\n",
    "        # print next number of a series\n",
    "        \n",
    "        print(value1, end=\"  \")\n",
    "        # add last two numbers to get next number\n",
    "        result = value1 + value2\n",
    "\n",
    "        # update values\n",
    "        value1 = value2\n",
    "        value2 = result\n",
    "def secondnumber(kk):\n",
    "    print('the second number series')\n",
    "    value1, value2 = 0, 1\n",
    "    for i in range(kk):\n",
    "        # print next number of a series\n",
    "        print(value1, end=\"  \")\n",
    "        # add last two numbers to get next number\n",
    "        result = value1 + value2\n",
    "\n",
    "        # update values\n",
    "        value1 = value2\n",
    "        value2 = result\n",
    "firstnumber(type_n1)\n",
    "secondnumber(type_n2)"
   ]
  },
  {
   "cell_type": "code",
   "execution_count": null,
   "id": "faf9ef21",
   "metadata": {},
   "outputs": [],
   "source": []
  }
 ],
 "metadata": {
  "kernelspec": {
   "display_name": "Python 3 (ipykernel)",
   "language": "python",
   "name": "python3"
  },
  "language_info": {
   "codemirror_mode": {
    "name": "ipython",
    "version": 3
   },
   "file_extension": ".py",
   "mimetype": "text/x-python",
   "name": "python",
   "nbconvert_exporter": "python",
   "pygments_lexer": "ipython3",
   "version": "3.9.13"
  }
 },
 "nbformat": 4,
 "nbformat_minor": 5
}
